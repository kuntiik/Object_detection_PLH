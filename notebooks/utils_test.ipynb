{
 "cells": [
  {
   "cell_type": "code",
   "execution_count": 63,
   "metadata": {},
   "outputs": [
    {
     "name": "stdout",
     "output_type": "stream",
     "text": [
      "['/mnt/home.stud/kuntluka/Object_detection_PLH/notebooks', '/mnt/home.stud/kuntluka/.vscode-server/extensions/ms-toolsai.jupyter-2021.11.1001550889/pythonFiles', '/mnt/home.stud/kuntluka/.vscode-server/extensions/ms-toolsai.jupyter-2021.11.1001550889/pythonFiles/lib/python', '/home.stud/kuntluka/.conda/envs/yolo/lib/python38.zip', '/home.stud/kuntluka/.conda/envs/yolo/lib/python3.8', '/home.stud/kuntluka/.conda/envs/yolo/lib/python3.8/lib-dynload', '', '/home.stud/kuntluka/.local/lib/python3.8/site-packages', '/home.stud/kuntluka/.conda/envs/yolo/lib/python3.8/site-packages', '/home.stud/kuntluka/.local/lib/python3.8/site-packages/IPython/extensions', '/mnt/home.stud/kuntluka/.ipython', '../', '../', '../', '../', '../']\n"
     ]
    }
   ],
   "source": [
    "# from \"\"\n",
    "\n",
    "# from \"src.datamodules.dentalcarries_datamodule\" import DentalCarriesDataModule\n",
    "import sys\n",
    "sys.path.append(\"../\")\n",
    "print(sys.path)"
   ]
  },
  {
   "cell_type": "code",
   "execution_count": 75,
   "metadata": {},
   "outputs": [
    {
     "name": "stdout",
     "output_type": "stream",
     "text": [
      "The autoreload extension is already loaded. To reload it, use:\n",
      "  %reload_ext autoreload\n"
     ]
    }
   ],
   "source": [
    "# from \"src.datamodules.dentalcarries_datamodule\" import *\n",
    "# from \"src.datamodules.cars_datamodule\" import *\n",
    "%load_ext autoreload\n",
    "%autoreload 2\n",
    "import importlib\n",
    "from src.datamodules.dentalcarries_datamodule import DentalCarriesDataModule\n",
    "from src.utils.dataset_utils import generate_yolo_folders"
   ]
  },
  {
   "cell_type": "code",
   "execution_count": 76,
   "metadata": {},
   "outputs": [],
   "source": [
    "# importlib.reload()\n",
    "# importlib.reload(\"\")\n",
    "data_root = \"/home.stud/kuntluka/dataset/carries_dataset/images\"\n",
    "ann_file = \"/home.stud/kuntluka/dataset/carries_dataset/annotations.json\"\n",
    "module = DentalCarriesDataModule(data_root, ann_file, batch_size=1, skip_transforms=True)"
   ]
  },
  {
   "cell_type": "code",
   "execution_count": 77,
   "metadata": {},
   "outputs": [
    {
     "name": "stdout",
     "output_type": "stream",
     "text": [
      "loading annotations into memory...\n",
      "Done (t=0.02s)\n",
      "creating index...\n",
      "index created!\n",
      "loading annotations into memory...\n",
      "Done (t=0.02s)\n",
      "creating index...\n",
      "index created!\n",
      "loading annotations into memory...\n",
      "Done (t=0.02s)\n",
      "creating index...\n",
      "index created!\n"
     ]
    }
   ],
   "source": [
    "module.setup()\n",
    "train_loader = module.train_dataloader()"
   ]
  },
  {
   "cell_type": "code",
   "execution_count": 41,
   "metadata": {},
   "outputs": [
    {
     "ename": "TypeError",
     "evalue": "'int' object is not callable",
     "output_type": "error",
     "traceback": [
      "\u001b[0;31m---------------------------------------------------------------------------\u001b[0m",
      "\u001b[0;31mTypeError\u001b[0m                                 Traceback (most recent call last)",
      "\u001b[0;32m/tmp/ipykernel_4166/1447147262.py\u001b[0m in \u001b[0;36m<module>\u001b[0;34m\u001b[0m\n\u001b[1;32m      1\u001b[0m \u001b[0;31m# batch = next(iter(train_loader))\u001b[0m\u001b[0;34m\u001b[0m\u001b[0;34m\u001b[0m\u001b[0;34m\u001b[0m\u001b[0m\n\u001b[0;32m----> 2\u001b[0;31m \u001b[0mmodule\u001b[0m\u001b[0;34m.\u001b[0m\u001b[0mnum_classes\u001b[0m\u001b[0;34m(\u001b[0m\u001b[0;34m)\u001b[0m\u001b[0;34m\u001b[0m\u001b[0;34m\u001b[0m\u001b[0m\n\u001b[0m\u001b[1;32m      3\u001b[0m \u001b[0;31m# dict()\u001b[0m\u001b[0;34m\u001b[0m\u001b[0;34m\u001b[0m\u001b[0;34m\u001b[0m\u001b[0m\n",
      "\u001b[0;31mTypeError\u001b[0m: 'int' object is not callable"
     ]
    }
   ],
   "source": [
    "# batch = next(iter(train_loader))\n",
    "module.num_classes()\n",
    "dict()"
   ]
  },
  {
   "cell_type": "code",
   "execution_count": 78,
   "metadata": {},
   "outputs": [],
   "source": [
    "# x,y = batch x[0]\n",
    "generate_yolo_folders(module, \"/home.stud/kuntluka/yolov5/data/dataset\")\n",
    "# y[0]\n",
    "# with open(\"foo.txt\", \"w\") as f:\n",
    "    \n",
    "#     for l, b in zip(y[0]['labels'], y[0]['boxes']):\n",
    "#         f.write(f\"{l} {b[0]}\")"
   ]
  }
 ],
 "metadata": {
  "interpreter": {
   "hash": "e69857294b6936776ba1996cf0ab926c674f11105aabb7325d25fa01ab964ff0"
  },
  "kernelspec": {
   "display_name": "Python 3.8.12 64-bit ('yolo': conda)",
   "language": "python",
   "name": "python3"
  },
  "language_info": {
   "codemirror_mode": {
    "name": "ipython",
    "version": 3
   },
   "file_extension": ".py",
   "mimetype": "text/x-python",
   "name": "python",
   "nbconvert_exporter": "python",
   "pygments_lexer": "ipython3",
   "version": "3.8.12"
  },
  "orig_nbformat": 4
 },
 "nbformat": 4,
 "nbformat_minor": 2
}
