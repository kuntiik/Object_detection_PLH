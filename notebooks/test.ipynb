{
 "cells": [
  {
   "cell_type": "code",
   "execution_count": 1,
   "metadata": {},
   "outputs": [],
   "source": [
    "import timm\n",
    "import torch\n",
    "from pycocotools.coco import COCO\n",
    "from torch.utils.data import Dataset\n",
    "from PIL import Image\n",
    "from pathlib import Path\n",
    "import torchvision.transforms as transforms\n",
    "from typing import List, Any\n",
    "import matplotlib.pyplot as plt\n",
    "import numpy as np\n",
    "import  matplotlib.patches as patches"
   ]
  },
  {
   "cell_type": "code",
   "execution_count": 2,
   "metadata": {},
   "outputs": [],
   "source": [
    "# timm.list_models('*efficientnetv2*')\n",
    "train_root : str = \"/datagrid/public_datasets/COCO/train2017\"\n",
    "val_root : str = \"/datagrid/public_datasets/COCO/val2017\"\n",
    "train_annotations : str = \"/datagrid/public_datasets/COCO/annotations/instances_train2017.json\"\n",
    "val_annotations : str = \"/datagrid/public_datasets/COCO/annotations/instances_val2017.json\"\n",
    "\n",
    "class COCODataset(Dataset):\n",
    "    def __init__(self, root, annFile):\n",
    "        super().__init__()\n",
    "        self.root = root \n",
    "        self.coco = COCO(annFile)\n",
    "        self.ids = list(sorted(self.coco.imgs.keys()))\n",
    "        self.transforms = transforms.Compose([\n",
    "            transforms.ToTensor(),\n",
    "            transforms.Normalize(mean=[0.485, 0.456, 0.406], std=[0.229, 0.224, 0.225])\n",
    "        ])\n",
    "        self.category_names = {}\n",
    "        for cat in self.coco.loadCats(self.coco.getCatIds()):\n",
    "            self.category_names[cat['id']] = cat['name']\n",
    "    \n",
    "    def _load_image(self, id : int) -> Image.Image:\n",
    "        path = self.coco.loadImgs(id)[0][\"file_name\"]\n",
    "        return Image.open(Path(self.root)/path).convert(\"RGB\")\n",
    "\n",
    "    def _load_target(self, id: int) -> List[Any]:\n",
    "        targets = self.coco.loadAnns(self.coco.getAnnIds(id))\n",
    "        return targets\n",
    "\n",
    "    def __getitem__(self, index):\n",
    "        id = self.ids[index]\n",
    "        img = self._load_image(id)\n",
    "        target = self._load_target(id)\n",
    "        transformed = self.transforms(img)\n",
    "        return img, target\n",
    "    \n",
    "    def __len__(self) -> int:\n",
    "        return len(self.ids)\n",
    "\n"
   ]
  },
  {
   "cell_type": "code",
   "execution_count": 5,
   "metadata": {},
   "outputs": [
    {
     "name": "stdout",
     "output_type": "stream",
     "text": [
      "loading annotations into memory...\n",
      "Done (t=21.01s)\n",
      "creating index...\n",
      "index created!\n"
     ]
    }
   ],
   "source": [
    "dataset = COCODataset(train_root, train_annotations)"
   ]
  },
  {
   "cell_type": "code",
   "execution_count": null,
   "metadata": {},
   "outputs": [
    {
     "name": "stdout",
     "output_type": "stream",
     "text": [
      "{1: 'person', 2: 'bicycle', 3: 'car', 4: 'motorcycle', 5: 'airplane', 6: 'bus', 7: 'train', 8: 'truck', 9: 'boat', 10: 'traffic light', 11: 'fire hydrant', 13: 'stop sign', 14: 'parking meter', 15: 'bench', 16: 'bird', 17: 'cat', 18: 'dog', 19: 'horse', 20: 'sheep', 21: 'cow', 22: 'elephant', 23: 'bear', 24: 'zebra', 25: 'giraffe', 27: 'backpack', 28: 'umbrella', 31: 'handbag', 32: 'tie', 33: 'suitcase', 34: 'frisbee', 35: 'skis', 36: 'snowboard', 37: 'sports ball', 38: 'kite', 39: 'baseball bat', 40: 'baseball glove', 41: 'skateboard', 42: 'surfboard', 43: 'tennis racket', 44: 'bottle', 46: 'wine glass', 47: 'cup', 48: 'fork', 49: 'knife', 50: 'spoon', 51: 'bowl', 52: 'banana', 53: 'apple', 54: 'sandwich', 55: 'orange', 56: 'broccoli', 57: 'carrot', 58: 'hot dog', 59: 'pizza', 60: 'donut', 61: 'cake', 62: 'chair', 63: 'couch', 64: 'potted plant', 65: 'bed', 67: 'dining table', 70: 'toilet', 72: 'tv', 73: 'laptop', 74: 'mouse', 75: 'remote', 76: 'keyboard', 77: 'cell phone', 78: 'microwave', 79: 'oven', 80: 'toaster', 81: 'sink', 82: 'refrigerator', 84: 'book', 85: 'clock', 86: 'vase', 87: 'scissors', 88: 'teddy bear', 89: 'hair drier', 90: 'toothbrush'}\n"
     ]
    }
   ],
   "source": [
    "print(dataset.category_names)"
   ]
  },
  {
   "cell_type": "code",
   "execution_count": 6,
   "metadata": {},
   "outputs": [],
   "source": [
    "%matplotlib inline\n",
    "import matplotlib.pyplot as plt\n",
    "def plt_img_bb(img, targets):\n",
    "    cmap = plt.get_cmap(\"tab20b\")\n",
    "    detection_labels = torch.tensor([x[\"category_id\"] for x in targets])\n",
    "    detection_rects = torch.tensor([x[\"bbox\"] for x in targets])\n",
    "    unique_labels = detection_labels.unique()\n",
    "    n_cls_pred = len(unique_labels)\n",
    "    colors = [cmap(i) for i in np.linspace(0, 1, n_cls_pred)]\n",
    "\n",
    "    dpi = 80\n",
    "    width, height = img.size\n",
    "    figsize = width / float(dpi), height / float(dpi)\n",
    "\n",
    "    fig  = plt.figure(figsize=figsize)\n",
    "    ax = fig.add_axes([0, 0, 1, 1])\n",
    "    ax.imshow(img)\n",
    "    for box, label in zip(detection_rects, detection_labels):\n",
    "        x1, y1, w, h = box\n",
    "        color = colors[int(np.where(unique_labels == label)[0])]\n",
    "        bbox = patches.Rectangle((x1, y1), w, h, linewidth=3,edgecolor=color, facecolor = \"none\")\n",
    "        ax.add_patch(bbox)\n",
    "        plt.text( x1, y1, s=dataset.category_names[int(label)], color=\"white\",fontsize=\"x-large\",\n",
    "                verticalalignment=\"top\", bbox={\"color\": color, \"pad\": 0}, fontfamily=\"serif\")\n",
    "    plt.axis(\"off\")\n",
    "    plt.savefig(\"tesp.jpg\", dpi = dpi, transparent=True)\n",
    "    plt.show()"
   ]
  },
  {
   "cell_type": "code",
   "execution_count": 9,
   "metadata": {},
   "outputs": [
    {
     "name": "stderr",
     "output_type": "stream",
     "text": [
      "display-im6.q16: unable to open X server `' @ error/display.c/DisplayImageCommand/432.\n"
     ]
    }
   ],
   "source": [
    "dataset[16]\n",
    "for i in range(50):\n",
    "    im, bb = dataset[i]\n",
    "    plt_img_bb(im, bb)"
   ]
  }
 ],
 "metadata": {
  "interpreter": {
   "hash": "8ae96657d6d029a00d2618c001ef8f30df5e1f239aa31eb37bc7c02f265ef478"
  },
  "kernelspec": {
   "display_name": "Python 3.8.6 64-bit",
   "language": "python",
   "name": "python3"
  },
  "language_info": {
   "codemirror_mode": {
    "name": "ipython",
    "version": 3
   },
   "file_extension": ".py",
   "mimetype": "text/x-python",
   "name": "python",
   "nbconvert_exporter": "python",
   "pygments_lexer": "ipython3",
   "version": "3.8.6"
  },
  "orig_nbformat": 4
 },
 "nbformat": 4,
 "nbformat_minor": 2
}
